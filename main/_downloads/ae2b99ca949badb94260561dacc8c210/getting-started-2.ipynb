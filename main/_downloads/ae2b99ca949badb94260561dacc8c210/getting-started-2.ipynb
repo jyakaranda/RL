{
  "cells": [
    {
      "cell_type": "markdown",
      "metadata": {
        "id": "rpbqPCSOM5Bl"
      },
      "source": [
        "\n",
        "# Getting started with model optimization\n",
        "\n",
        "**Author**: [Vincent Moens](https://github.com/vmoens)\n",
        "\n",
        "\n",
        "<div class=\"alert alert-info\"><h4>Note</h4><p>To run this tutorial in a notebook, add an installation cell\n",
        "  at the beginning containing:\n",
        "\n",
        "```\n",
        "!pip install tensordict\n",
        "!pip install torchrl</p></div>\n",
        "```\n"
      ]
    },
    {
      "cell_type": "code",
      "source": [
        "pip install tensordict torchrl"
      ],
      "metadata": {
        "id": "5lGzRgjQM6dW",
        "outputId": "e63b12c5-2835-4a02-a5f6-0e3ea82d2c1d",
        "colab": {
          "base_uri": "https://localhost:8080/"
        }
      },
      "execution_count": 1,
      "outputs": [
        {
          "output_type": "stream",
          "name": "stdout",
          "text": [
            "Requirement already satisfied: tensordict in /usr/local/lib/python3.12/dist-packages (0.9.1)\n",
            "Requirement already satisfied: torchrl in /usr/local/lib/python3.12/dist-packages (0.9.2)\n",
            "Requirement already satisfied: torch in /usr/local/lib/python3.12/dist-packages (from tensordict) (2.8.0+cu126)\n",
            "Requirement already satisfied: numpy in /usr/local/lib/python3.12/dist-packages (from tensordict) (2.0.2)\n",
            "Requirement already satisfied: cloudpickle in /usr/local/lib/python3.12/dist-packages (from tensordict) (3.1.1)\n",
            "Requirement already satisfied: packaging in /usr/local/lib/python3.12/dist-packages (from tensordict) (25.0)\n",
            "Requirement already satisfied: importlib_metadata in /usr/local/lib/python3.12/dist-packages (from tensordict) (8.7.0)\n",
            "Requirement already satisfied: orjson in /usr/local/lib/python3.12/dist-packages (from tensordict) (3.11.2)\n",
            "Requirement already satisfied: pyvers<0.2.0,>=0.1.0 in /usr/local/lib/python3.12/dist-packages (from tensordict) (0.1.0)\n",
            "Requirement already satisfied: filelock in /usr/local/lib/python3.12/dist-packages (from torch->tensordict) (3.19.1)\n",
            "Requirement already satisfied: typing-extensions>=4.10.0 in /usr/local/lib/python3.12/dist-packages (from torch->tensordict) (4.15.0)\n",
            "Requirement already satisfied: setuptools in /usr/local/lib/python3.12/dist-packages (from torch->tensordict) (75.2.0)\n",
            "Requirement already satisfied: sympy>=1.13.3 in /usr/local/lib/python3.12/dist-packages (from torch->tensordict) (1.13.3)\n",
            "Requirement already satisfied: networkx in /usr/local/lib/python3.12/dist-packages (from torch->tensordict) (3.5)\n",
            "Requirement already satisfied: jinja2 in /usr/local/lib/python3.12/dist-packages (from torch->tensordict) (3.1.6)\n",
            "Requirement already satisfied: fsspec in /usr/local/lib/python3.12/dist-packages (from torch->tensordict) (2025.3.0)\n",
            "Requirement already satisfied: nvidia-cuda-nvrtc-cu12==12.6.77 in /usr/local/lib/python3.12/dist-packages (from torch->tensordict) (12.6.77)\n",
            "Requirement already satisfied: nvidia-cuda-runtime-cu12==12.6.77 in /usr/local/lib/python3.12/dist-packages (from torch->tensordict) (12.6.77)\n",
            "Requirement already satisfied: nvidia-cuda-cupti-cu12==12.6.80 in /usr/local/lib/python3.12/dist-packages (from torch->tensordict) (12.6.80)\n",
            "Requirement already satisfied: nvidia-cudnn-cu12==9.10.2.21 in /usr/local/lib/python3.12/dist-packages (from torch->tensordict) (9.10.2.21)\n",
            "Requirement already satisfied: nvidia-cublas-cu12==12.6.4.1 in /usr/local/lib/python3.12/dist-packages (from torch->tensordict) (12.6.4.1)\n",
            "Requirement already satisfied: nvidia-cufft-cu12==11.3.0.4 in /usr/local/lib/python3.12/dist-packages (from torch->tensordict) (11.3.0.4)\n",
            "Requirement already satisfied: nvidia-curand-cu12==10.3.7.77 in /usr/local/lib/python3.12/dist-packages (from torch->tensordict) (10.3.7.77)\n",
            "Requirement already satisfied: nvidia-cusolver-cu12==11.7.1.2 in /usr/local/lib/python3.12/dist-packages (from torch->tensordict) (11.7.1.2)\n",
            "Requirement already satisfied: nvidia-cusparse-cu12==12.5.4.2 in /usr/local/lib/python3.12/dist-packages (from torch->tensordict) (12.5.4.2)\n",
            "Requirement already satisfied: nvidia-cusparselt-cu12==0.7.1 in /usr/local/lib/python3.12/dist-packages (from torch->tensordict) (0.7.1)\n",
            "Requirement already satisfied: nvidia-nccl-cu12==2.27.3 in /usr/local/lib/python3.12/dist-packages (from torch->tensordict) (2.27.3)\n",
            "Requirement already satisfied: nvidia-nvtx-cu12==12.6.77 in /usr/local/lib/python3.12/dist-packages (from torch->tensordict) (12.6.77)\n",
            "Requirement already satisfied: nvidia-nvjitlink-cu12==12.6.85 in /usr/local/lib/python3.12/dist-packages (from torch->tensordict) (12.6.85)\n",
            "Requirement already satisfied: nvidia-cufile-cu12==1.11.1.6 in /usr/local/lib/python3.12/dist-packages (from torch->tensordict) (1.11.1.6)\n",
            "Requirement already satisfied: triton==3.4.0 in /usr/local/lib/python3.12/dist-packages (from torch->tensordict) (3.4.0)\n",
            "Requirement already satisfied: zipp>=3.20 in /usr/local/lib/python3.12/dist-packages (from importlib_metadata->tensordict) (3.23.0)\n",
            "Requirement already satisfied: mpmath<1.4,>=1.1.0 in /usr/local/lib/python3.12/dist-packages (from sympy>=1.13.3->torch->tensordict) (1.3.0)\n",
            "Requirement already satisfied: MarkupSafe>=2.0 in /usr/local/lib/python3.12/dist-packages (from jinja2->torch->tensordict) (3.0.2)\n"
          ]
        }
      ]
    },
    {
      "cell_type": "markdown",
      "metadata": {
        "id": "yqzfL-IqM5Bl"
      },
      "source": [
        "In TorchRL, we try to treat optimization as it is custom to do in PyTorch,\n",
        "using dedicated loss modules which are designed with the sole purpose of\n",
        "optimizing the model. This approach efficiently decouples the execution of\n",
        "the policy from its training and allows us to design training loops that are\n",
        "similar to what can be found in traditional supervised learning examples.\n",
        "\n",
        "The typical training loop therefore looks like this:\n",
        "\n",
        "  ..code - block::Python\n",
        "\n",
        "    >>> for i in range(n_collections):\n",
        "    ...     data = get_next_batch(env, policy)\n",
        "    ...     for j in range(n_optim):\n",
        "    ...         loss = loss_fn(data)\n",
        "    ...         loss.backward()\n",
        "    ...         optim.step()\n",
        "\n",
        "In this concise tutorial, you will receive a brief overview of the loss modules. Due to the typically\n",
        "straightforward nature of the API for basic usage, this tutorial will be kept brief.\n",
        "\n",
        "## RL objective functions\n",
        "\n",
        "In RL, innovation typically involves the exploration of novel methods\n",
        "for optimizing a policy (i.e., new algorithms), rather than focusing\n",
        "on new architectures, as seen in other domains. Within TorchRL,\n",
        "these algorithms are encapsulated within loss modules. A loss\n",
        "module orchestrates the various components of your algorithm and\n",
        "yields a set of loss values that can be backpropagated\n",
        "through to train the corresponding components.\n",
        "\n",
        "In this tutorial, we will take a popular\n",
        "off-policy algorithm as an example,\n",
        "[DDPG](https://arxiv.org/abs/1509.02971).\n",
        "\n",
        "To build a loss module, the only thing one needs is a set of networks\n",
        "defined as :class:`~tensordict.nn.TensorDictModule`s. Most of the time, one\n",
        "of these modules will be the policy. Other auxiliary networks such as\n",
        "Q-Value networks or critics of some kind may be needed as well. Let's see\n",
        "what this looks like in practice: DDPG requires a deterministic\n",
        "map from the observation space to the action space as well as a value\n",
        "network that predicts the value of a state-action pair. The DDPG loss will\n",
        "attempt to find the policy parameters that output actions that maximize the\n",
        "value for a given state.\n",
        "\n",
        "To build the loss, we need both the actor and value networks.\n",
        "If they are built according to DDPG's expectations, it is all\n",
        "we need to get a trainable loss module:\n",
        "\n"
      ]
    },
    {
      "cell_type": "code",
      "execution_count": 2,
      "metadata": {
        "id": "7-GXcNdYM5Bm",
        "outputId": "8a08df06-bb87-4ad8-dbc1-37c42dcb5fc3",
        "colab": {
          "base_uri": "https://localhost:8080/"
        }
      },
      "outputs": [
        {
          "output_type": "stream",
          "name": "stderr",
          "text": [
            "Gym has been unmaintained since 2022 and does not support NumPy 2.0 amongst other critical functionality.\n",
            "Please upgrade to Gymnasium, the maintained drop-in replacement of Gym, or contact the authors of your software and request that they upgrade.\n",
            "See the migration guide at https://gymnasium.farama.org/introduction/migration_guide/ for additional information.\n",
            "/usr/local/lib/python3.12/dist-packages/jupyter_client/session.py:151: DeprecationWarning: datetime.datetime.utcnow() is deprecated and scheduled for removal in a future version. Use timezone-aware objects to represent datetimes in UTC: datetime.datetime.now(datetime.UTC).\n",
            "  return datetime.utcnow().replace(tzinfo=utc)\n",
            "/usr/local/lib/python3.12/dist-packages/jupyter_client/session.py:151: DeprecationWarning: datetime.datetime.utcnow() is deprecated and scheduled for removal in a future version. Use timezone-aware objects to represent datetimes in UTC: datetime.datetime.now(datetime.UTC).\n",
            "  return datetime.utcnow().replace(tzinfo=utc)\n"
          ]
        }
      ],
      "source": [
        "from torchrl.envs import GymEnv\n",
        "\n",
        "env = GymEnv(\"Pendulum-v1\")\n",
        "\n",
        "from torchrl.modules import Actor, MLP, ValueOperator\n",
        "from torchrl.objectives import DDPGLoss\n",
        "\n",
        "n_obs = env.observation_spec[\"observation\"].shape[-1]\n",
        "n_act = env.action_spec.shape[-1]\n",
        "actor = Actor(MLP(in_features=n_obs, out_features=n_act, num_cells=[32, 32]))\n",
        "value_net = ValueOperator(\n",
        "    MLP(in_features=n_obs + n_act, out_features=1, num_cells=[32, 32]),\n",
        "    in_keys=[\"observation\", \"action\"],\n",
        ")\n",
        "\n",
        "ddpg_loss = DDPGLoss(actor_network=actor, value_network=value_net)"
      ]
    },
    {
      "cell_type": "markdown",
      "metadata": {
        "id": "MNrQ6FutM5Bm"
      },
      "source": [
        "And that is it! Our loss module can now be run with data coming from the\n",
        "environment (we omit exploration, storage and other features to focus on\n",
        "the loss functionality):\n",
        "\n",
        "\n"
      ]
    },
    {
      "cell_type": "code",
      "execution_count": 3,
      "metadata": {
        "id": "hNpXQY1oM5Bm",
        "outputId": "108325ed-fc53-4f65-944f-1715d96742f8",
        "colab": {
          "base_uri": "https://localhost:8080/"
        }
      },
      "outputs": [
        {
          "output_type": "stream",
          "name": "stdout",
          "text": [
            "TensorDict(\n",
            "    fields={\n",
            "        loss_actor: Tensor(shape=torch.Size([]), device=cpu, dtype=torch.float32, is_shared=False),\n",
            "        loss_value: Tensor(shape=torch.Size([]), device=cpu, dtype=torch.float32, is_shared=False),\n",
            "        pred_value: Tensor(shape=torch.Size([100]), device=cpu, dtype=torch.float32, is_shared=False),\n",
            "        pred_value_max: Tensor(shape=torch.Size([]), device=cpu, dtype=torch.float32, is_shared=False),\n",
            "        target_value: Tensor(shape=torch.Size([100]), device=cpu, dtype=torch.float32, is_shared=False),\n",
            "        target_value_max: Tensor(shape=torch.Size([]), device=cpu, dtype=torch.float32, is_shared=False),\n",
            "        td_error: Tensor(shape=torch.Size([100]), device=cpu, dtype=torch.float32, is_shared=False)},\n",
            "    batch_size=torch.Size([]),\n",
            "    device=None,\n",
            "    is_shared=False)\n"
          ]
        },
        {
          "output_type": "stream",
          "name": "stderr",
          "text": [
            "/usr/local/lib/python3.12/dist-packages/torchrl/objectives/common.py:40: UserWarning: No target network updater has been associated with this loss module, but target parameters have been found. While this is supported, it is expected that the target network updates will be manually performed. You can deactivate this warning by turning the RL_WARNINGS env variable to False.\n",
            "  warnings.warn(\n",
            "/usr/local/lib/python3.12/dist-packages/torchrl/objectives/common.py:456: UserWarning: No target network updater has been associated with this loss module, but target parameters have been found. While this is supported, it is expected that the target network updates will be manually performed. You can deactivate this warning by turning the RL_WARNINGS env variable to False.\n",
            "  warnings.warn(\n"
          ]
        }
      ],
      "source": [
        "rollout = env.rollout(max_steps=100, policy=actor)\n",
        "loss_vals = ddpg_loss(rollout)\n",
        "print(loss_vals)"
      ]
    },
    {
      "cell_type": "markdown",
      "metadata": {
        "id": "EIAeOTnJM5Bm"
      },
      "source": [
        "## LossModule's output\n",
        "\n",
        "As you can see, the value we received from the loss isn't a single scalar\n",
        "but a dictionary containing multiple losses.\n",
        "\n",
        "The reason is simple: because more than one network may be trained at a time,\n",
        "and since some users may wish to separate the optimization of each module\n",
        "in distinct steps, TorchRL's objectives will return dictionaries containing\n",
        "the various loss components.\n",
        "\n",
        "This format also allows us to pass metadata along with the loss values. In\n",
        "general, we make sure that only the loss values are differentiable such that\n",
        "you can simply sum over the values of the dictionary to obtain the total\n",
        "loss. If you want to make sure you're fully in control of what is happening,\n",
        "you can sum over only the entries which keys start with the ``\"loss_\"`` prefix:\n",
        "\n",
        "\n"
      ]
    },
    {
      "cell_type": "code",
      "execution_count": 5,
      "metadata": {
        "id": "KycJfX3eM5Bm"
      },
      "outputs": [],
      "source": [
        "total_loss = 0\n",
        "for key, val in loss_vals.items():\n",
        "    if key.startswith(\"loss_\"):\n",
        "        total_loss += val"
      ]
    },
    {
      "cell_type": "markdown",
      "metadata": {
        "id": "ZMrnlEAJM5Bn"
      },
      "source": [
        "## Training a LossModule\n",
        "\n",
        "Given all this, training the modules is not so different from what would be\n",
        "done in any other training loop. Because it wraps the modules,\n",
        "the easiest way to get the list of trainable parameters is to query\n",
        "the :meth:`~torchrl.objectives.LossModule.parameters` method.\n",
        "\n",
        "We'll need an optimizer (or one optimizer\n",
        "per module if that is your choice).\n",
        "\n",
        "\n"
      ]
    },
    {
      "cell_type": "code",
      "execution_count": 6,
      "metadata": {
        "id": "pSAzjO2pM5Bn"
      },
      "outputs": [],
      "source": [
        "from torch.optim import Adam\n",
        "\n",
        "optim = Adam(ddpg_loss.parameters())\n",
        "total_loss.backward()"
      ]
    },
    {
      "cell_type": "markdown",
      "metadata": {
        "id": "8DWOwd-1M5Bn"
      },
      "source": [
        "The following items will typically be\n",
        "found in your training loop:\n",
        "\n"
      ]
    },
    {
      "cell_type": "code",
      "execution_count": 7,
      "metadata": {
        "id": "IdKOOPowM5Bn"
      },
      "outputs": [],
      "source": [
        "optim.step()\n",
        "optim.zero_grad()"
      ]
    },
    {
      "cell_type": "markdown",
      "metadata": {
        "id": "gAurVpSrM5Bn"
      },
      "source": [
        "## Further considerations: Target parameters\n",
        "\n",
        "Another important aspect to consider is the presence of target parameters\n",
        "in off-policy algorithms like DDPG. Target parameters typically represent\n",
        "a delayed or smoothed version of the parameters over time, and they play\n",
        "a crucial role in value estimation during policy training. Utilizing target\n",
        "parameters for policy training often proves to be significantly more\n",
        "efficient compared to using the current configuration of value network\n",
        "parameters. Generally, managing target parameters is handled by the loss\n",
        "module, relieving users of direct concern. However, it remains the user's\n",
        "responsibility to update these values as necessary based on specific\n",
        "requirements. TorchRL offers a couple of updaters, namely\n",
        ":class:`~torchrl.objectives.HardUpdate` and\n",
        ":class:`~torchrl.objectives.SoftUpdate`,\n",
        "which can be easily instantiated without requiring in-depth\n",
        "knowledge of the underlying mechanisms of the loss module.\n",
        "\n",
        "\n"
      ]
    },
    {
      "cell_type": "code",
      "execution_count": 8,
      "metadata": {
        "id": "-uYxDxQPM5Bn"
      },
      "outputs": [],
      "source": [
        "from torchrl.objectives import SoftUpdate\n",
        "\n",
        "updater = SoftUpdate(ddpg_loss, eps=0.99)"
      ]
    },
    {
      "cell_type": "markdown",
      "metadata": {
        "id": "TycP1vslM5Bn"
      },
      "source": [
        "In your training loop, you will need to update the target parameters at each\n",
        "optimization step or each collection step:\n",
        "\n"
      ]
    },
    {
      "cell_type": "code",
      "execution_count": 9,
      "metadata": {
        "id": "H57rqYcaM5Bn"
      },
      "outputs": [],
      "source": [
        "updater.step()"
      ]
    },
    {
      "cell_type": "markdown",
      "metadata": {
        "id": "v1ZMEaGUM5Bn"
      },
      "source": [
        "This is all you need to know about loss modules to get started!\n",
        "\n",
        "To further explore the topic, have a look at:\n",
        "\n",
        "- The `loss module reference page <ref_objectives>`;\n",
        "- The `Coding a DDPG loss tutorial <coding_ddpg>`;\n",
        "- Losses in action in `PPO <coding_ppo>` or `DQN <coding_dqn>`.\n",
        "\n",
        "\n"
      ]
    }
  ],
  "metadata": {
    "kernelspec": {
      "display_name": "Python 3",
      "language": "python",
      "name": "python3"
    },
    "language_info": {
      "codemirror_mode": {
        "name": "ipython",
        "version": 3
      },
      "file_extension": ".py",
      "mimetype": "text/x-python",
      "name": "python",
      "nbconvert_exporter": "python",
      "pygments_lexer": "ipython3",
      "version": "3.9.23"
    },
    "colab": {
      "provenance": []
    }
  },
  "nbformat": 4,
  "nbformat_minor": 0
}