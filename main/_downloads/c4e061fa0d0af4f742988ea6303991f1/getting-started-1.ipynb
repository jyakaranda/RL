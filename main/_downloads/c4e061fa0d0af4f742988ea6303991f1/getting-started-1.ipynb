{
  "cells": [
    {
      "cell_type": "markdown",
      "metadata": {
        "id": "57yHpPEkzTx_"
      },
      "source": [
        "\n",
        "# Get started with TorchRL's modules\n",
        "\n",
        "**Author**: [Vincent Moens](https://github.com/vmoens)\n",
        "\n",
        "\n",
        "<div class=\"alert alert-info\"><h4>Note</h4><p>To run this tutorial in a notebook, add an installation cell\n",
        "  at the beginning containing:\n",
        "\n",
        "```\n",
        "!pip install tensordict\n",
        "!pip install torchrl</p></div>\n",
        "```\n"
      ]
    },
    {
      "cell_type": "code",
      "source": [
        "pip install tensordict torchrl"
      ],
      "metadata": {
        "id": "ZMAvNYuK21eA",
        "outputId": "0159254b-0473-48b8-8615-a06e50f105ad",
        "colab": {
          "base_uri": "https://localhost:8080/"
        }
      },
      "execution_count": 2,
      "outputs": [
        {
          "output_type": "stream",
          "name": "stdout",
          "text": [
            "Collecting tensordict\n",
            "  Downloading tensordict-0.9.1-cp312-cp312-manylinux_2_28_x86_64.whl.metadata (9.3 kB)\n",
            "Collecting torchrl\n",
            "  Downloading torchrl-0.9.2-cp312-cp312-manylinux_2_28_x86_64.whl.metadata (42 kB)\n",
            "\u001b[2K     \u001b[90m━━━━━━━━━━━━━━━━━━━━━━━━━━━━━━━━━━━━━━━━\u001b[0m \u001b[32m43.0/43.0 kB\u001b[0m \u001b[31m1.6 MB/s\u001b[0m eta \u001b[36m0:00:00\u001b[0m\n",
            "\u001b[?25hRequirement already satisfied: torch in /usr/local/lib/python3.12/dist-packages (from tensordict) (2.8.0+cu126)\n",
            "Requirement already satisfied: numpy in /usr/local/lib/python3.12/dist-packages (from tensordict) (2.0.2)\n",
            "Requirement already satisfied: cloudpickle in /usr/local/lib/python3.12/dist-packages (from tensordict) (3.1.1)\n",
            "Requirement already satisfied: packaging in /usr/local/lib/python3.12/dist-packages (from tensordict) (25.0)\n",
            "Requirement already satisfied: importlib_metadata in /usr/local/lib/python3.12/dist-packages (from tensordict) (8.7.0)\n",
            "Requirement already satisfied: orjson in /usr/local/lib/python3.12/dist-packages (from tensordict) (3.11.2)\n",
            "Collecting pyvers<0.2.0,>=0.1.0 (from tensordict)\n",
            "  Downloading pyvers-0.1.0-py3-none-any.whl.metadata (5.4 kB)\n",
            "Requirement already satisfied: filelock in /usr/local/lib/python3.12/dist-packages (from torch->tensordict) (3.19.1)\n",
            "Requirement already satisfied: typing-extensions>=4.10.0 in /usr/local/lib/python3.12/dist-packages (from torch->tensordict) (4.14.1)\n",
            "Requirement already satisfied: setuptools in /usr/local/lib/python3.12/dist-packages (from torch->tensordict) (75.2.0)\n",
            "Requirement already satisfied: sympy>=1.13.3 in /usr/local/lib/python3.12/dist-packages (from torch->tensordict) (1.13.3)\n",
            "Requirement already satisfied: networkx in /usr/local/lib/python3.12/dist-packages (from torch->tensordict) (3.5)\n",
            "Requirement already satisfied: jinja2 in /usr/local/lib/python3.12/dist-packages (from torch->tensordict) (3.1.6)\n",
            "Requirement already satisfied: fsspec in /usr/local/lib/python3.12/dist-packages (from torch->tensordict) (2025.3.0)\n",
            "Requirement already satisfied: nvidia-cuda-nvrtc-cu12==12.6.77 in /usr/local/lib/python3.12/dist-packages (from torch->tensordict) (12.6.77)\n",
            "Requirement already satisfied: nvidia-cuda-runtime-cu12==12.6.77 in /usr/local/lib/python3.12/dist-packages (from torch->tensordict) (12.6.77)\n",
            "Requirement already satisfied: nvidia-cuda-cupti-cu12==12.6.80 in /usr/local/lib/python3.12/dist-packages (from torch->tensordict) (12.6.80)\n",
            "Requirement already satisfied: nvidia-cudnn-cu12==9.10.2.21 in /usr/local/lib/python3.12/dist-packages (from torch->tensordict) (9.10.2.21)\n",
            "Requirement already satisfied: nvidia-cublas-cu12==12.6.4.1 in /usr/local/lib/python3.12/dist-packages (from torch->tensordict) (12.6.4.1)\n",
            "Requirement already satisfied: nvidia-cufft-cu12==11.3.0.4 in /usr/local/lib/python3.12/dist-packages (from torch->tensordict) (11.3.0.4)\n",
            "Requirement already satisfied: nvidia-curand-cu12==10.3.7.77 in /usr/local/lib/python3.12/dist-packages (from torch->tensordict) (10.3.7.77)\n",
            "Requirement already satisfied: nvidia-cusolver-cu12==11.7.1.2 in /usr/local/lib/python3.12/dist-packages (from torch->tensordict) (11.7.1.2)\n",
            "Requirement already satisfied: nvidia-cusparse-cu12==12.5.4.2 in /usr/local/lib/python3.12/dist-packages (from torch->tensordict) (12.5.4.2)\n",
            "Requirement already satisfied: nvidia-cusparselt-cu12==0.7.1 in /usr/local/lib/python3.12/dist-packages (from torch->tensordict) (0.7.1)\n",
            "Requirement already satisfied: nvidia-nccl-cu12==2.27.3 in /usr/local/lib/python3.12/dist-packages (from torch->tensordict) (2.27.3)\n",
            "Requirement already satisfied: nvidia-nvtx-cu12==12.6.77 in /usr/local/lib/python3.12/dist-packages (from torch->tensordict) (12.6.77)\n",
            "Requirement already satisfied: nvidia-nvjitlink-cu12==12.6.85 in /usr/local/lib/python3.12/dist-packages (from torch->tensordict) (12.6.85)\n",
            "Requirement already satisfied: nvidia-cufile-cu12==1.11.1.6 in /usr/local/lib/python3.12/dist-packages (from torch->tensordict) (1.11.1.6)\n",
            "Requirement already satisfied: triton==3.4.0 in /usr/local/lib/python3.12/dist-packages (from torch->tensordict) (3.4.0)\n",
            "Requirement already satisfied: zipp>=3.20 in /usr/local/lib/python3.12/dist-packages (from importlib_metadata->tensordict) (3.23.0)\n",
            "Requirement already satisfied: mpmath<1.4,>=1.1.0 in /usr/local/lib/python3.12/dist-packages (from sympy>=1.13.3->torch->tensordict) (1.3.0)\n",
            "Requirement already satisfied: MarkupSafe>=2.0 in /usr/local/lib/python3.12/dist-packages (from jinja2->torch->tensordict) (3.0.2)\n",
            "Downloading tensordict-0.9.1-cp312-cp312-manylinux_2_28_x86_64.whl (430 kB)\n",
            "\u001b[2K   \u001b[90m━━━━━━━━━━━━━━━━━━━━━━━━━━━━━━━━━━━━━━━━\u001b[0m \u001b[32m430.2/430.2 kB\u001b[0m \u001b[31m2.8 MB/s\u001b[0m eta \u001b[36m0:00:00\u001b[0m\n",
            "\u001b[?25hDownloading torchrl-0.9.2-cp312-cp312-manylinux_2_28_x86_64.whl (1.4 MB)\n",
            "\u001b[2K   \u001b[90m━━━━━━━━━━━━━━━━━━━━━━━━━━━━━━━━━━━━━━━━\u001b[0m \u001b[32m1.4/1.4 MB\u001b[0m \u001b[31m8.8 MB/s\u001b[0m eta \u001b[36m0:00:00\u001b[0m\n",
            "\u001b[?25hDownloading pyvers-0.1.0-py3-none-any.whl (10 kB)\n",
            "Installing collected packages: pyvers, tensordict, torchrl\n",
            "Successfully installed pyvers-0.1.0 tensordict-0.9.1 torchrl-0.9.2\n"
          ]
        }
      ]
    },
    {
      "cell_type": "markdown",
      "metadata": {
        "id": "RKS6oIhbzTyC"
      },
      "source": [
        "Reinforcement Learning is designed to create policies that can effectively\n",
        "tackle specific tasks. Policies can take various forms, from a differentiable\n",
        "map transitioning from the observation space to the action space, to a more\n",
        "ad-hoc method like an argmax over a list of values computed for each possible\n",
        "action. Policies can be deterministic or stochastic, and may incorporate\n",
        "complex elements such as Recurrent Neural Networks (RNNs) or transformers.\n",
        "\n",
        "Accommodating all these scenarios can be quite intricate. In this succinct\n",
        "tutorial, we will delve into the core functionality of TorchRL in terms of\n",
        "policy construction. We will primarily focus on stochastic and Q-Value\n",
        "policies in two common scenarios: using a Multi-Layer Perceptron (MLP) or\n",
        "a Convolutional Neural Network (CNN) as backbones.\n",
        "\n",
        "## TensorDictModules\n",
        "\n",
        "Similar to how environments interact with instances of\n",
        ":class:`~tensordict.TensorDict`, the modules used to represent policies and\n",
        "value functions also do the same. The core idea is simple: encapsulate a\n",
        "standard :class:`~torch.nn.Module` (or any other function) within a class\n",
        "that knows which entries need to be read and passed to the module, and then\n",
        "records the results with the assigned entries. To illustrate this, we will\n",
        "use the simplest policy possible: a deterministic map from the observation\n",
        "space to the action space. For maximum generality, we will use a\n",
        ":class:`~torch.nn.LazyLinear` module with the Pendulum environment we\n",
        "instantiated in the previous tutorial.\n",
        "\n",
        "\n"
      ]
    },
    {
      "cell_type": "code",
      "execution_count": 4,
      "metadata": {
        "id": "3H3jWlbCzTyE",
        "outputId": "31606e36-e116-4847-8086-60523606f903",
        "colab": {
          "base_uri": "https://localhost:8080/"
        }
      },
      "outputs": [
        {
          "output_type": "stream",
          "name": "stdout",
          "text": [
            "torch.Size([1])\n"
          ]
        },
        {
          "output_type": "stream",
          "name": "stderr",
          "text": [
            "/usr/local/lib/python3.12/dist-packages/jupyter_client/session.py:151: DeprecationWarning: datetime.datetime.utcnow() is deprecated and scheduled for removal in a future version. Use timezone-aware objects to represent datetimes in UTC: datetime.datetime.now(datetime.UTC).\n",
            "  return datetime.utcnow().replace(tzinfo=utc)\n"
          ]
        }
      ],
      "source": [
        "import torch\n",
        "\n",
        "from tensordict.nn import TensorDictModule\n",
        "from torchrl.envs import GymEnv\n",
        "\n",
        "env = GymEnv(\"Pendulum-v1\")\n",
        "module = torch.nn.LazyLinear(out_features=env.action_spec.shape[-1])\n",
        "print(env.action_spec.shape)\n",
        "policy = TensorDictModule(\n",
        "    module,\n",
        "    in_keys=[\"observation\"],\n",
        "    out_keys=[\"action\"],\n",
        ")"
      ]
    },
    {
      "cell_type": "markdown",
      "metadata": {
        "id": "TF3_TdZMzTyG"
      },
      "source": [
        "This is all that's required to execute our policy! The use of a lazy module\n",
        "allows us to bypass the need to fetch the shape of the observation space, as\n",
        "the module will automatically determine it. This policy is now ready to be\n",
        "run in the environment:\n",
        "\n"
      ]
    },
    {
      "cell_type": "code",
      "execution_count": 5,
      "metadata": {
        "id": "z2BIuixszTyH",
        "outputId": "a6bfac14-fd55-4b0a-d00b-8d3edec64c46",
        "colab": {
          "base_uri": "https://localhost:8080/"
        }
      },
      "outputs": [
        {
          "output_type": "stream",
          "name": "stdout",
          "text": [
            "TensorDict(\n",
            "    fields={\n",
            "        action: Tensor(shape=torch.Size([10, 1]), device=cpu, dtype=torch.float32, is_shared=False),\n",
            "        done: Tensor(shape=torch.Size([10, 1]), device=cpu, dtype=torch.bool, is_shared=False),\n",
            "        next: TensorDict(\n",
            "            fields={\n",
            "                done: Tensor(shape=torch.Size([10, 1]), device=cpu, dtype=torch.bool, is_shared=False),\n",
            "                observation: Tensor(shape=torch.Size([10, 3]), device=cpu, dtype=torch.float32, is_shared=False),\n",
            "                reward: Tensor(shape=torch.Size([10, 1]), device=cpu, dtype=torch.float32, is_shared=False),\n",
            "                terminated: Tensor(shape=torch.Size([10, 1]), device=cpu, dtype=torch.bool, is_shared=False),\n",
            "                truncated: Tensor(shape=torch.Size([10, 1]), device=cpu, dtype=torch.bool, is_shared=False)},\n",
            "            batch_size=torch.Size([10]),\n",
            "            device=None,\n",
            "            is_shared=False),\n",
            "        observation: Tensor(shape=torch.Size([10, 3]), device=cpu, dtype=torch.float32, is_shared=False),\n",
            "        terminated: Tensor(shape=torch.Size([10, 1]), device=cpu, dtype=torch.bool, is_shared=False),\n",
            "        truncated: Tensor(shape=torch.Size([10, 1]), device=cpu, dtype=torch.bool, is_shared=False)},\n",
            "    batch_size=torch.Size([10]),\n",
            "    device=None,\n",
            "    is_shared=False)\n"
          ]
        }
      ],
      "source": [
        "rollout = env.rollout(max_steps=10, policy=policy)\n",
        "print(rollout)"
      ]
    },
    {
      "cell_type": "markdown",
      "metadata": {
        "id": "HoFBO44jzTyI"
      },
      "source": [
        "## Specialized wrappers\n",
        "\n",
        "To simplify the incorporation of :class:`~torch.nn.Module`s into your\n",
        "codebase, TorchRL offers a range of specialized wrappers designed to be\n",
        "used as actors, including :class:`~torchrl.modules.tensordict_module.Actor`,\n",
        "# :class:`~torchrl.modules.tensordict_module.ProbabilisticActor`,\n",
        "# :class:`~torchrl.modules.tensordict_module.ActorValueOperator` or\n",
        "# :class:`~torchrl.modules.tensordict_module.ActorCriticOperator`.\n",
        "For example, :class:`~torchrl.modules.tensordict_module.Actor` provides\n",
        "default values for the ``in_keys`` and ``out_keys``, making integration\n",
        "with many common environments straightforward:\n",
        "\n",
        "\n"
      ]
    },
    {
      "cell_type": "code",
      "execution_count": 6,
      "metadata": {
        "id": "2PWRqEUOzTyJ",
        "outputId": "7c3bb32c-6cf5-45ef-bb93-b33349f5df51",
        "colab": {
          "base_uri": "https://localhost:8080/"
        }
      },
      "outputs": [
        {
          "output_type": "stream",
          "name": "stdout",
          "text": [
            "TensorDict(\n",
            "    fields={\n",
            "        action: Tensor(shape=torch.Size([10, 1]), device=cpu, dtype=torch.float32, is_shared=False),\n",
            "        done: Tensor(shape=torch.Size([10, 1]), device=cpu, dtype=torch.bool, is_shared=False),\n",
            "        next: TensorDict(\n",
            "            fields={\n",
            "                done: Tensor(shape=torch.Size([10, 1]), device=cpu, dtype=torch.bool, is_shared=False),\n",
            "                observation: Tensor(shape=torch.Size([10, 3]), device=cpu, dtype=torch.float32, is_shared=False),\n",
            "                reward: Tensor(shape=torch.Size([10, 1]), device=cpu, dtype=torch.float32, is_shared=False),\n",
            "                terminated: Tensor(shape=torch.Size([10, 1]), device=cpu, dtype=torch.bool, is_shared=False),\n",
            "                truncated: Tensor(shape=torch.Size([10, 1]), device=cpu, dtype=torch.bool, is_shared=False)},\n",
            "            batch_size=torch.Size([10]),\n",
            "            device=None,\n",
            "            is_shared=False),\n",
            "        observation: Tensor(shape=torch.Size([10, 3]), device=cpu, dtype=torch.float32, is_shared=False),\n",
            "        terminated: Tensor(shape=torch.Size([10, 1]), device=cpu, dtype=torch.bool, is_shared=False),\n",
            "        truncated: Tensor(shape=torch.Size([10, 1]), device=cpu, dtype=torch.bool, is_shared=False)},\n",
            "    batch_size=torch.Size([10]),\n",
            "    device=None,\n",
            "    is_shared=False)\n"
          ]
        }
      ],
      "source": [
        "from torchrl.modules import Actor\n",
        "\n",
        "policy = Actor(module)\n",
        "rollout = env.rollout(max_steps=10, policy=policy)\n",
        "print(rollout)"
      ]
    },
    {
      "cell_type": "markdown",
      "metadata": {
        "id": "tw605mCxzTyK"
      },
      "source": [
        "The list of available specialized TensorDictModules is available in the\n",
        "`API reference <tdmodules>`.\n",
        "\n",
        "## Networks\n",
        "\n",
        "TorchRL also provides regular modules that can be used without recurring to\n",
        "tensordict features. The two most common networks you will encounter are\n",
        "the :class:`~torchrl.modules.MLP` and the :class:`~torchrl.modules.ConvNet`\n",
        "(CNN) modules. We can substitute our policy module with one of these:\n",
        "\n",
        "\n"
      ]
    },
    {
      "cell_type": "code",
      "execution_count": 8,
      "metadata": {
        "id": "88jYYlJezTyK"
      },
      "outputs": [],
      "source": [
        "from torchrl.modules import MLP\n",
        "\n",
        "module = MLP(\n",
        "    out_features=env.action_spec.shape[-1],\n",
        "    num_cells=[32, 64],\n",
        "    activation_class=torch.nn.Tanh,\n",
        ")\n",
        "policy = Actor(module)\n",
        "rollout = env.rollout(max_steps=10, policy=policy)"
      ]
    },
    {
      "cell_type": "markdown",
      "metadata": {
        "id": "YIlLYFUFzTyL"
      },
      "source": [
        "TorchRL also supports RNN-based policies. Since this is a more technical\n",
        "topic, it is treated in `a separate tutorial <RNN_tuto>`.\n",
        "\n",
        "## Probabilistic policies\n",
        "\n",
        "Policy-optimization algorithms like\n",
        "[PPO](https://arxiv.org/abs/1707.06347) require the policy to be\n",
        "stochastic: unlike in the examples above, the module now encodes a map from\n",
        "the observation space to a parameter space encoding a distribution over the\n",
        "possible actions. TorchRL facilitates the design of such modules by grouping\n",
        "under a single class the various operations such as building the distribution\n",
        "from the parameters, sampling from that distribution and retrieving the\n",
        "log-probability. Here, we'll be building an actor that relies on a regular\n",
        "normal distribution using three components:\n",
        "\n",
        "- An :class:`~torchrl.modules.MLP` backbone reading observations of size\n",
        "  ``[3]`` and outputting a single tensor of size ``[2]``;\n",
        "- A :class:`~tensordict.nn.distributions.NormalParamExtractor` module that\n",
        "  will split this output on two chunks, a mean and a standard deviation of\n",
        "  size ``[1]``;\n",
        "- A :class:`~torchrl.modules.tensordict_module.ProbabilisticActor` that will\n",
        "  read those parameters as ``in_keys``, create a distribution with them and\n",
        "  populate our tensordict with samples and log-probabilities.\n",
        "\n",
        "\n"
      ]
    },
    {
      "cell_type": "code",
      "execution_count": 9,
      "metadata": {
        "id": "OsqHxmtjzTyL",
        "outputId": "772bac4d-739e-47ed-f6a1-6f958432a4e9",
        "colab": {
          "base_uri": "https://localhost:8080/"
        }
      },
      "outputs": [
        {
          "output_type": "stream",
          "name": "stdout",
          "text": [
            "TensorDict(\n",
            "    fields={\n",
            "        action: Tensor(shape=torch.Size([10, 1]), device=cpu, dtype=torch.float32, is_shared=False),\n",
            "        action_log_prob: Tensor(shape=torch.Size([10, 1]), device=cpu, dtype=torch.float32, is_shared=False),\n",
            "        done: Tensor(shape=torch.Size([10, 1]), device=cpu, dtype=torch.bool, is_shared=False),\n",
            "        loc: Tensor(shape=torch.Size([10, 1]), device=cpu, dtype=torch.float32, is_shared=False),\n",
            "        next: TensorDict(\n",
            "            fields={\n",
            "                done: Tensor(shape=torch.Size([10, 1]), device=cpu, dtype=torch.bool, is_shared=False),\n",
            "                observation: Tensor(shape=torch.Size([10, 3]), device=cpu, dtype=torch.float32, is_shared=False),\n",
            "                reward: Tensor(shape=torch.Size([10, 1]), device=cpu, dtype=torch.float32, is_shared=False),\n",
            "                terminated: Tensor(shape=torch.Size([10, 1]), device=cpu, dtype=torch.bool, is_shared=False),\n",
            "                truncated: Tensor(shape=torch.Size([10, 1]), device=cpu, dtype=torch.bool, is_shared=False)},\n",
            "            batch_size=torch.Size([10]),\n",
            "            device=None,\n",
            "            is_shared=False),\n",
            "        observation: Tensor(shape=torch.Size([10, 3]), device=cpu, dtype=torch.float32, is_shared=False),\n",
            "        scale: Tensor(shape=torch.Size([10, 1]), device=cpu, dtype=torch.float32, is_shared=False),\n",
            "        terminated: Tensor(shape=torch.Size([10, 1]), device=cpu, dtype=torch.bool, is_shared=False),\n",
            "        truncated: Tensor(shape=torch.Size([10, 1]), device=cpu, dtype=torch.bool, is_shared=False)},\n",
            "    batch_size=torch.Size([10]),\n",
            "    device=None,\n",
            "    is_shared=False)\n"
          ]
        }
      ],
      "source": [
        "from tensordict.nn.distributions import NormalParamExtractor\n",
        "from torch.distributions import Normal\n",
        "from torchrl.modules import ProbabilisticActor\n",
        "\n",
        "backbone = MLP(in_features=3, out_features=2)\n",
        "extractor = NormalParamExtractor()\n",
        "module = torch.nn.Sequential(backbone, extractor)\n",
        "td_module = TensorDictModule(module, in_keys=[\"observation\"], out_keys=[\"loc\", \"scale\"])\n",
        "policy = ProbabilisticActor(\n",
        "    td_module,\n",
        "    in_keys=[\"loc\", \"scale\"],\n",
        "    out_keys=[\"action\"],\n",
        "    distribution_class=Normal,\n",
        "    return_log_prob=True,\n",
        ")\n",
        "\n",
        "rollout = env.rollout(max_steps=10, policy=policy)\n",
        "print(rollout)"
      ]
    },
    {
      "cell_type": "markdown",
      "metadata": {
        "id": "M6gdMqvCzTyM"
      },
      "source": [
        "There are a few things to note about this rollout:\n",
        "\n",
        "- Since we asked for it during the construction of the actor, the\n",
        "  log-probability of the actions given the distribution at that time is\n",
        "  also written. This is necessary for algorithms like PPO.\n",
        "- The parameters of the distribution are returned within the output\n",
        "  tensordict too under the ``\"loc\"`` and ``\"scale\"`` entries.\n",
        "\n",
        "You can control the sampling of the action to use the expected value or\n",
        "other properties of the distribution instead of using random samples if\n",
        "your application requires it. This can be controlled via the\n",
        ":func:`~torchrl.envs.utils.set_exploration_type` function:\n",
        "\n"
      ]
    },
    {
      "cell_type": "code",
      "execution_count": 10,
      "metadata": {
        "id": "5nvcApUPzTyM"
      },
      "outputs": [],
      "source": [
        "from torchrl.envs.utils import ExplorationType, set_exploration_type\n",
        "\n",
        "with set_exploration_type(ExplorationType.DETERMINISTIC):\n",
        "    # takes the mean as action\n",
        "    rollout = env.rollout(max_steps=10, policy=policy)\n",
        "with set_exploration_type(ExplorationType.RANDOM):\n",
        "    # Samples actions according to the dist\n",
        "    rollout = env.rollout(max_steps=10, policy=policy)"
      ]
    },
    {
      "cell_type": "markdown",
      "metadata": {
        "id": "F_fTmIMtzTyM"
      },
      "source": [
        "Check the ``default_interaction_type`` keyword argument in\n",
        "the docstrings to know more.\n",
        "\n",
        "## Exploration\n",
        "\n",
        "Stochastic policies like this somewhat naturally trade off exploration and\n",
        "exploitation, but deterministic policies won't. Fortunately, TorchRL can\n",
        "also palliate to this with its exploration modules.\n",
        "We will take the example of the :class:`~torchrl.modules.EGreedyModule`\n",
        "exploration module (check also\n",
        ":class:`~torchrl.modules.AdditiveGaussianModule` and\n",
        ":class:`~torchrl.modules.OrnsteinUhlenbeckProcessModule`).\n",
        "To see this module in action, let's revert to a deterministic policy:\n",
        "\n"
      ]
    },
    {
      "cell_type": "code",
      "execution_count": 12,
      "metadata": {
        "id": "ttGX1ZD6zTyN"
      },
      "outputs": [],
      "source": [
        "from tensordict.nn import TensorDictSequential\n",
        "from torchrl.modules import EGreedyModule\n",
        "\n",
        "policy = Actor(MLP(3, 1, num_cells=[32, 64]))"
      ]
    },
    {
      "cell_type": "markdown",
      "metadata": {
        "id": "9CUjSPLOzTyN"
      },
      "source": [
        "Our $\\epsilon$-greedy exploration module will usually be customized\n",
        "with a number of annealing frames and an initial value for the\n",
        "$\\epsilon$ parameter. A value of $\\epsilon = 1$ means that every\n",
        "action taken is random, while $\\epsilon=0$ means that there is no\n",
        "exploration at all. To anneal (i.e., decrease) the exploration factor, a call\n",
        "to :meth:`~torchrl.modules.EGreedyModule.step` is required (see the last\n",
        "`tutorial <gs_first_training>` for an example).\n",
        "\n",
        "\n"
      ]
    },
    {
      "cell_type": "code",
      "execution_count": 13,
      "metadata": {
        "id": "0WASqjHAzTyO"
      },
      "outputs": [],
      "source": [
        "exploration_module = EGreedyModule(\n",
        "    spec=env.action_spec, annealing_num_steps=1000, eps_init=0.5\n",
        ")"
      ]
    },
    {
      "cell_type": "markdown",
      "metadata": {
        "id": "PEytmxuOzTyO"
      },
      "source": [
        "To build our explorative policy, we only had to concatenate the\n",
        "deterministic policy module with the exploration module within a\n",
        ":class:`~tensordict.nn.TensorDictSequential` module (which is the analogous\n",
        "to :class:`~torch.nn.Sequential` in the tensordict realm).\n",
        "\n"
      ]
    },
    {
      "cell_type": "code",
      "execution_count": 14,
      "metadata": {
        "id": "UopUgLVmzTyO"
      },
      "outputs": [],
      "source": [
        "exploration_policy = TensorDictSequential(policy, exploration_module)\n",
        "\n",
        "with set_exploration_type(ExplorationType.DETERMINISTIC):\n",
        "    # Turns off exploration\n",
        "    rollout = env.rollout(max_steps=10, policy=exploration_policy)\n",
        "with set_exploration_type(ExplorationType.RANDOM):\n",
        "    # Turns on exploration\n",
        "    rollout = env.rollout(max_steps=10, policy=exploration_policy)"
      ]
    },
    {
      "cell_type": "markdown",
      "metadata": {
        "id": "xL1KZ_AQzTyP"
      },
      "source": [
        "Because it must be able to sample random actions in the action space, the\n",
        ":class:`~torchrl.modules.EGreedyModule` must be equipped with the\n",
        "``action_space`` from the environment to know what strategy to use to\n",
        "sample actions randomly.\n",
        "\n",
        "## Q-Value actors\n",
        "\n",
        "In some settings, the policy isn't a standalone module but is constructed on\n",
        "top of another module. This is the case with **Q-Value actors**. In short, these\n",
        "actors require an estimate of the action value (most of the time discrete)\n",
        "and will greedily pick up the action with the highest value. In some\n",
        "settings (finite discrete action space and finite discrete state space),\n",
        "one can just store a 2D table of state-action pairs and pick up the\n",
        "action with the highest value. The innovation brought by\n",
        "[DQN](https://arxiv.org/abs/1312.5602) was to scale this up to continuous\n",
        "state spaces by utilizing a neural network to encode for the ``Q(s, a)``\n",
        "value map. Let's consider another environment with a discrete action space\n",
        "for a clearer understanding:\n",
        "\n"
      ]
    },
    {
      "cell_type": "code",
      "execution_count": 15,
      "metadata": {
        "id": "3uhqhB8azTyP",
        "outputId": "f49d2ac7-05d3-476b-ac30-0d2fcca13f2b",
        "colab": {
          "base_uri": "https://localhost:8080/"
        }
      },
      "outputs": [
        {
          "output_type": "stream",
          "name": "stdout",
          "text": [
            "OneHot(\n",
            "    shape=torch.Size([2]),\n",
            "    space=CategoricalBox(n=2),\n",
            "    device=cpu,\n",
            "    dtype=torch.int64,\n",
            "    domain=discrete)\n"
          ]
        },
        {
          "output_type": "stream",
          "name": "stderr",
          "text": [
            "/usr/local/lib/python3.12/dist-packages/jupyter_client/session.py:151: DeprecationWarning: datetime.datetime.utcnow() is deprecated and scheduled for removal in a future version. Use timezone-aware objects to represent datetimes in UTC: datetime.datetime.now(datetime.UTC).\n",
            "  return datetime.utcnow().replace(tzinfo=utc)\n"
          ]
        }
      ],
      "source": [
        "env = GymEnv(\"CartPole-v1\")\n",
        "print(env.action_spec)"
      ]
    },
    {
      "cell_type": "markdown",
      "metadata": {
        "id": "26H2kte0zTyP"
      },
      "source": [
        "We build a value network that produces one value per action when it reads a\n",
        "state from the environment:\n",
        "\n"
      ]
    },
    {
      "cell_type": "code",
      "execution_count": 16,
      "metadata": {
        "id": "z81xsR0fzTyP"
      },
      "outputs": [],
      "source": [
        "num_actions = 2\n",
        "value_net = TensorDictModule(\n",
        "    MLP(out_features=num_actions, num_cells=[32, 32]),\n",
        "    in_keys=[\"observation\"],\n",
        "    out_keys=[\"action_value\"],\n",
        ")"
      ]
    },
    {
      "cell_type": "markdown",
      "metadata": {
        "id": "XZ6fwhlazTyP"
      },
      "source": [
        "We can easily build our Q-Value actor by adding a\n",
        ":class:`~torchrl.modules.tensordict_module.QValueModule` after our value\n",
        "network:\n",
        "\n"
      ]
    },
    {
      "cell_type": "code",
      "execution_count": 17,
      "metadata": {
        "id": "BPbIzeM2zTyP"
      },
      "outputs": [],
      "source": [
        "from torchrl.modules import QValueModule\n",
        "\n",
        "policy = TensorDictSequential(\n",
        "    value_net,  # writes action values in our tensordict\n",
        "    QValueModule(spec=env.action_spec),  # Reads the \"action_value\" entry by default\n",
        ")"
      ]
    },
    {
      "cell_type": "markdown",
      "metadata": {
        "id": "n6FE7cO0zTyQ"
      },
      "source": [
        "Let's check it out! We run the policy for a couple of steps and look at the\n",
        "output. We should find an ``\"action_value\"`` as well as a\n",
        "``\"chosen_action_value\"`` entries in the rollout that we obtain:\n",
        "\n",
        "\n"
      ]
    },
    {
      "cell_type": "code",
      "execution_count": 18,
      "metadata": {
        "id": "rI7ufyiqzTyQ",
        "outputId": "a90b3a53-7884-4294-a077-679a02fa275e",
        "colab": {
          "base_uri": "https://localhost:8080/"
        }
      },
      "outputs": [
        {
          "output_type": "stream",
          "name": "stdout",
          "text": [
            "TensorDict(\n",
            "    fields={\n",
            "        action: Tensor(shape=torch.Size([3, 2]), device=cpu, dtype=torch.int64, is_shared=False),\n",
            "        action_value: Tensor(shape=torch.Size([3, 2]), device=cpu, dtype=torch.float32, is_shared=False),\n",
            "        chosen_action_value: Tensor(shape=torch.Size([3, 1]), device=cpu, dtype=torch.float32, is_shared=False),\n",
            "        done: Tensor(shape=torch.Size([3, 1]), device=cpu, dtype=torch.bool, is_shared=False),\n",
            "        next: TensorDict(\n",
            "            fields={\n",
            "                done: Tensor(shape=torch.Size([3, 1]), device=cpu, dtype=torch.bool, is_shared=False),\n",
            "                observation: Tensor(shape=torch.Size([3, 4]), device=cpu, dtype=torch.float32, is_shared=False),\n",
            "                reward: Tensor(shape=torch.Size([3, 1]), device=cpu, dtype=torch.float32, is_shared=False),\n",
            "                terminated: Tensor(shape=torch.Size([3, 1]), device=cpu, dtype=torch.bool, is_shared=False),\n",
            "                truncated: Tensor(shape=torch.Size([3, 1]), device=cpu, dtype=torch.bool, is_shared=False)},\n",
            "            batch_size=torch.Size([3]),\n",
            "            device=None,\n",
            "            is_shared=False),\n",
            "        observation: Tensor(shape=torch.Size([3, 4]), device=cpu, dtype=torch.float32, is_shared=False),\n",
            "        terminated: Tensor(shape=torch.Size([3, 1]), device=cpu, dtype=torch.bool, is_shared=False),\n",
            "        truncated: Tensor(shape=torch.Size([3, 1]), device=cpu, dtype=torch.bool, is_shared=False)},\n",
            "    batch_size=torch.Size([3]),\n",
            "    device=None,\n",
            "    is_shared=False)\n"
          ]
        }
      ],
      "source": [
        "rollout = env.rollout(max_steps=3, policy=policy)\n",
        "print(rollout)"
      ]
    },
    {
      "cell_type": "markdown",
      "metadata": {
        "id": "37TFuYxWzTyQ"
      },
      "source": [
        "Because it relies on the ``argmax`` operator, this policy is deterministic.\n",
        "During data collection, we will need to explore the environment. For that,\n",
        "we are using the :class:`~torchrl.modules.tensordict_module.EGreedyModule`\n",
        "once again:\n",
        "\n"
      ]
    },
    {
      "cell_type": "code",
      "execution_count": 19,
      "metadata": {
        "id": "8yapN29jzTyQ"
      },
      "outputs": [],
      "source": [
        "policy_explore = TensorDictSequential(policy, EGreedyModule(env.action_spec))\n",
        "\n",
        "with set_exploration_type(ExplorationType.RANDOM):\n",
        "    rollout_explore = env.rollout(max_steps=3, policy=policy_explore)"
      ]
    },
    {
      "cell_type": "markdown",
      "metadata": {
        "id": "jfAS6pOdzTyQ"
      },
      "source": [
        "This is it for our short tutorial on building a policy with TorchRL!\n",
        "\n",
        "There are many more things you can do with the library. A good place to start\n",
        "is to look at the `API reference for modules <ref_modules>`.\n",
        "\n",
        "Next steps:\n",
        "\n",
        "- Check how to use compound distributions with\n",
        "  :class:`~tensordict.nn.distributions.CompositeDistribution` when the\n",
        "  action is composite (e.g., a discrete and a continuous action are\n",
        "  required by the env);\n",
        "- Have a look at how you can use an RNN within the policy (a\n",
        "  `tutorial <RNN_tuto>`);\n",
        "- Compare this to the usage of transformers with the Decision Transformers\n",
        "  examples (see the ``example`` directory on GitHub).\n",
        "\n",
        "\n"
      ]
    }
  ],
  "metadata": {
    "kernelspec": {
      "display_name": "Python 3",
      "language": "python",
      "name": "python3"
    },
    "language_info": {
      "codemirror_mode": {
        "name": "ipython",
        "version": 3
      },
      "file_extension": ".py",
      "mimetype": "text/x-python",
      "name": "python",
      "nbconvert_exporter": "python",
      "pygments_lexer": "ipython3",
      "version": "3.9.23"
    },
    "colab": {
      "provenance": []
    }
  },
  "nbformat": 4,
  "nbformat_minor": 0
}